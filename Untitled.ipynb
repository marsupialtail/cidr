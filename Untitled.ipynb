{
 "cells": [
  {
   "cell_type": "code",
   "execution_count": 1,
   "id": "dd9c5b40",
   "metadata": {},
   "outputs": [],
   "source": [
    "import polars"
   ]
  },
  {
   "cell_type": "code",
   "execution_count": 2,
   "id": "78b9e5d0",
   "metadata": {},
   "outputs": [],
   "source": [
    "z = polars.read_parquet(\"instances.parquet\")"
   ]
  },
  {
   "cell_type": "code",
   "execution_count": 2,
   "id": "259bbd2f",
   "metadata": {},
   "outputs": [],
   "source": [
    "from matplotlib import pyplot as plt\n",
    "plt.style.use('ggplot')"
   ]
  },
  {
   "cell_type": "code",
   "execution_count": 5,
   "id": "441ae20e",
   "metadata": {},
   "outputs": [
    {
     "ename": "NameError",
     "evalue": "name 'z' is not defined",
     "output_type": "error",
     "traceback": [
      "\u001b[0;31m---------------------------------------------------------------------------\u001b[0m",
      "\u001b[0;31mNameError\u001b[0m                                 Traceback (most recent call last)",
      "Input \u001b[0;32mIn [5]\u001b[0m, in \u001b[0;36m<cell line: 4>\u001b[0;34m()\u001b[0m\n\u001b[1;32m      1\u001b[0m fig, (ax1, ax2) \u001b[38;5;241m=\u001b[39m plt\u001b[38;5;241m.\u001b[39msubplots(\u001b[38;5;241m1\u001b[39m, \u001b[38;5;241m2\u001b[39m, figsize\u001b[38;5;241m=\u001b[39m(\u001b[38;5;241m16\u001b[39m,\u001b[38;5;241m6\u001b[39m))\n\u001b[1;32m      3\u001b[0m \u001b[38;5;66;03m# Plotting the first subplot\u001b[39;00m\n\u001b[0;32m----> 4\u001b[0m ax1\u001b[38;5;241m.\u001b[39mhist(\u001b[43mz\u001b[49m\u001b[38;5;241m.\u001b[39mfilter(z[\u001b[38;5;124m\"\u001b[39m\u001b[38;5;124minstances\u001b[39m\u001b[38;5;124m\"\u001b[39m]\u001b[38;5;241m.\u001b[39mis_in(types))[\u001b[38;5;124m\"\u001b[39m\u001b[38;5;124mcost_per_mem\u001b[39m\u001b[38;5;124m\"\u001b[39m], bins \u001b[38;5;241m=\u001b[39m \u001b[38;5;241m10\u001b[39m)\n\u001b[1;32m      5\u001b[0m ax1\u001b[38;5;241m.\u001b[39mset_xlabel(\u001b[38;5;124m'\u001b[39m\u001b[38;5;124m$ Cost per GB of RAM\u001b[39m\u001b[38;5;124m'\u001b[39m,weight \u001b[38;5;241m=\u001b[39m \u001b[38;5;124m'\u001b[39m\u001b[38;5;124mbold\u001b[39m\u001b[38;5;124m'\u001b[39m, size\u001b[38;5;241m=\u001b[39m \u001b[38;5;241m20\u001b[39m)\n\u001b[1;32m      6\u001b[0m ax1\u001b[38;5;241m.\u001b[39mset_ylabel(\u001b[38;5;124m'\u001b[39m\u001b[38;5;124mCount\u001b[39m\u001b[38;5;124m'\u001b[39m,weight \u001b[38;5;241m=\u001b[39m \u001b[38;5;124m'\u001b[39m\u001b[38;5;124mbold\u001b[39m\u001b[38;5;124m'\u001b[39m, size\u001b[38;5;241m=\u001b[39m \u001b[38;5;241m20\u001b[39m)\n",
      "\u001b[0;31mNameError\u001b[0m: name 'z' is not defined"
     ]
    },
    {
     "data": {
      "image/png": "[encoded data removed]",
      "text/plain": [
       "<Figure size 1152x432 with 2 Axes>"
      ]
     },
     "metadata": {
      "needs_background": "light"
     },
     "output_type": "display_data"
    }
   ],
   "source": [
    "fig, (ax1, ax2) = plt.subplots(1, 2, figsize=(16,6))\n",
    "\n",
    "# Plotting the first subplot\n",
    "ax1.hist(z.filter(z[\"instances\"].is_in(types))[\"cost_per_mem\"], bins = 10)\n",
    "ax1.set_xlabel('$ Cost per GB of RAM',weight = 'bold', size= 20)\n",
    "ax1.set_ylabel('Count',weight = 'bold', size= 20)\n",
    "ax1.tick_params(axis='y', labelsize=16)\n",
    "ax1.tick_params(axis='x', labelsize=16)\n",
    "# Plotting the second subplot\n",
    "ax2.hist(z.filter(z[\"instances\"].is_in(types))[\"cost_per_Gbps\"], bins = 10)\n",
    "ax2.set_xlabel('$ Cost per Gbps of Bandwidth',weight = 'bold', size= 20)\n",
    "ax2.tick_params(axis='y', labelsize=16)\n",
    "ax2.tick_params(axis='x', labelsize=16)\n",
    "plt.savefig('explore-refined.pdf')"
   ]
  },
  {
   "cell_type": "code",
   "execution_count": 27,
   "id": "6e2dde2d",
   "metadata": {},
   "outputs": [
    {
     "data": {
      "text/plain": [
       "14.65304635064307"
      ]
     },
     "execution_count": 27,
     "metadata": {},
     "output_type": "execute_result"
    }
   ],
   "source": [
    "z[\"cost_per_mem\"].max() / z[\"cost_per_mem\"].min()"
   ]
  },
  {
   "cell_type": "code",
   "execution_count": 28,
   "id": "cb374491",
   "metadata": {},
   "outputs": [
    {
     "data": {
      "text/plain": [
       "63.14814809960184"
      ]
     },
     "execution_count": 28,
     "metadata": {},
     "output_type": "execute_result"
    }
   ],
   "source": [
    "z[\"cost_per_Gbps\"].max() / z[\"cost_per_Gbps\"].min()"
   ]
  },
  {
   "cell_type": "code",
   "execution_count": 40,
   "id": "199cabf7",
   "metadata": {},
   "outputs": [
    {
     "data": {
      "text/html": [
       "<div><style>\n",
       ".dataframe > thead > tr > th,\n",
       ".dataframe > tbody > tr > td {\n",
       "  text-align: right;\n",
       "}\n",
       "</style>\n",
       "<small>shape: (2,)</small><table border=\"1\" class=\"dataframe\"><thead><tr><th>instances</th></tr><tr><td>str</td></tr></thead><tbody><tr><td>&quot;i2.2xlarge&quot;</td></tr><tr><td>&quot;i2.4xlarge&quot;</td></tr></tbody></table></div>"
      ],
      "text/plain": [
       "shape: (2,)\n",
       "Series: 'instances' [str]\n",
       "[\n",
       "\t\"i2.2xlarge\"\n",
       "\t\"i2.4xlarge\"\n",
       "]"
      ]
     },
     "execution_count": 40,
     "metadata": {},
     "output_type": "execute_result"
    }
   ],
   "source": [
    "z.filter(z['cost_per_Gbps'] == z[\"cost_per_Gbps\"].max())['instances']"
   ]
  },
  {
   "cell_type": "code",
   "execution_count": 41,
   "id": "36d4064b",
   "metadata": {},
   "outputs": [
    {
     "data": {
      "text/html": [
       "<div><style>\n",
       ".dataframe > thead > tr > th,\n",
       ".dataframe > tbody > tr > td {\n",
       "  text-align: right;\n",
       "}\n",
       "</style>\n",
       "<small>shape: (1,)</small><table border=\"1\" class=\"dataframe\"><thead><tr><th>cost_per_Gbps</th></tr><tr><td>f64</td></tr></thead><tbody><tr><td>61.668113</td></tr></tbody></table></div>"
      ],
      "text/plain": [
       "shape: (1,)\n",
       "Series: 'cost_per_Gbps' [f64]\n",
       "[\n",
       "\t61.668113\n",
       "]"
      ]
     },
     "execution_count": 41,
     "metadata": {},
     "output_type": "execute_result"
    }
   ],
   "source": [
    "z.filter(z['instances'] == \"i2.2xlarge\")[\"cost_per_Gbps\"] / z.filter(z['instances'] == \"c6gn.2xlarge\")[\"cost_per_Gbps\"]"
   ]
  },
  {
   "cell_type": "code",
   "execution_count": 42,
   "id": "6d61f03f",
   "metadata": {},
   "outputs": [],
   "source": [
    "types = [k.replace(\"\\n\",\"\") for k in open(\"space\").readlines()]"
   ]
  },
  {
   "cell_type": "code",
   "execution_count": 44,
   "id": "cf8d6feb",
   "metadata": {},
   "outputs": [
    {
     "data": {
      "text/html": [
       "<div><style>\n",
       ".dataframe > thead > tr > th,\n",
       ".dataframe > tbody > tr > td {\n",
       "  text-align: right;\n",
       "}\n",
       "</style>\n",
       "<small>shape: (21, 9)</small><table border=\"1\" class=\"dataframe\"><thead><tr><th>instances</th><th>baseline</th><th>burst</th><th>cost</th><th>cost_per_Gbps</th><th>mem</th><th>storage</th><th>vCPUs</th><th>cost_per_mem</th></tr><tr><td>str</td><td>f64</td><td>f64</td><td>f32</td><td>f64</td><td>f32</td><td>str</td><td>str</td><td>f32</td></tr></thead><tbody><tr><td>&quot;c7g.2xlarge&quot;</td><td>3.75</td><td>15.0</td><td>0.29</td><td>0.077333</td><td>16.0</td><td>&quot;EBS only&quot;</td><td>&quot;8 vCPUs&quot;</td><td>0.018125</td></tr><tr><td>&quot;c6gd.2xlarge&quot;</td><td>2.5</td><td>10.0</td><td>0.3072</td><td>0.12288</td><td>16.0</td><td>&quot;474 GB        …</td><td>&quot;8 vCPUs&quot;</td><td>0.0192</td></tr><tr><td>&quot;m7g.2xlarge&quot;</td><td>3.75</td><td>15.0</td><td>0.3264</td><td>0.08704</td><td>32.0</td><td>&quot;EBS only&quot;</td><td>&quot;8 vCPUs&quot;</td><td>0.0102</td></tr><tr><td>&quot;c6i.2xlarge&quot;</td><td>3.125</td><td>12.5</td><td>0.34</td><td>0.1088</td><td>16.0</td><td>&quot;EBS only&quot;</td><td>&quot;8 vCPUs&quot;</td><td>0.02125</td></tr><tr><td>&quot;c6gn.2xlarge&quot;</td><td>12.5</td><td>25.0</td><td>0.3456</td><td>0.027648</td><td>16.0</td><td>&quot;EBS only&quot;</td><td>&quot;8 vCPUs&quot;</td><td>0.0216</td></tr><tr><td>&quot;m6gd.2xlarge&quot;</td><td>2.5</td><td>10.0</td><td>0.3616</td><td>0.14464</td><td>32.0</td><td>&quot;474 GB        …</td><td>&quot;8 vCPUs&quot;</td><td>0.0113</td></tr><tr><td>&quot;m6i.2xlarge&quot;</td><td>3.125</td><td>12.5</td><td>0.384</td><td>0.12288</td><td>32.0</td><td>&quot;EBS only&quot;</td><td>&quot;8 vCPUs&quot;</td><td>0.012</td></tr><tr><td>&quot;c6id.2xlarge&quot;</td><td>3.125</td><td>12.5</td><td>0.4032</td><td>0.129024</td><td>16.0</td><td>&quot;474 GB        …</td><td>&quot;8 vCPUs&quot;</td><td>0.0252</td></tr><tr><td>&quot;r6g.2xlarge&quot;</td><td>2.5</td><td>10.0</td><td>0.4032</td><td>0.16128</td><td>64.0</td><td>&quot;EBS only&quot;</td><td>&quot;8 vCPUs&quot;</td><td>0.0063</td></tr><tr><td>&quot;r7g.2xlarge&quot;</td><td>3.75</td><td>15.0</td><td>0.4284</td><td>0.11424</td><td>64.0</td><td>&quot;EBS only&quot;</td><td>&quot;8 vCPUs&quot;</td><td>0.006694</td></tr><tr><td>&quot;c6in.2xlarge&quot;</td><td>12.5</td><td>40.0</td><td>0.4536</td><td>0.036288</td><td>16.0</td><td>&quot;EBS only&quot;</td><td>&quot;8 vCPUs&quot;</td><td>0.02835</td></tr><tr><td>&quot;r6gd.2xlarge&quot;</td><td>2.5</td><td>10.0</td><td>0.4608</td><td>0.18432</td><td>64.0</td><td>&quot;474 GB        …</td><td>&quot;8 vCPUs&quot;</td><td>0.0072</td></tr><tr><td>&quot;m6id.2xlarge&quot;</td><td>3.125</td><td>12.5</td><td>0.4746</td><td>0.151872</td><td>32.0</td><td>&quot;474 GB        …</td><td>&quot;8 vCPUs&quot;</td><td>0.014831</td></tr><tr><td>&quot;r6i.2xlarge&quot;</td><td>3.125</td><td>12.5</td><td>0.504</td><td>0.16128</td><td>64.0</td><td>&quot;EBS only&quot;</td><td>&quot;8 vCPUs&quot;</td><td>0.007875</td></tr><tr><td>&quot;m6in.2xlarge&quot;</td><td>12.5</td><td>40.0</td><td>0.5569</td><td>0.044552</td><td>32.0</td><td>&quot;EBS only&quot;</td><td>&quot;8 vCPUs&quot;</td><td>0.017403</td></tr><tr><td>&quot;r6id.2xlarge&quot;</td><td>3.125</td><td>12.5</td><td>0.6048</td><td>0.193536</td><td>64.0</td><td>&quot;474 GB        …</td><td>&quot;8 vCPUs&quot;</td><td>0.00945</td></tr><tr><td>&quot;m6idn.2xlarge&quot;</td><td>12.5</td><td>40.0</td><td>0.6365</td><td>0.05092</td><td>32.0</td><td>&quot;474 GB        …</td><td>&quot;8 vCPUs&quot;</td><td>0.019891</td></tr><tr><td>&quot;i4i.2xlarge&quot;</td><td>4.687</td><td>12.0</td><td>0.686</td><td>0.146362</td><td>64.0</td><td>&quot;1875 GB       …</td><td>&quot;8 vCPUs&quot;</td><td>0.010719</td></tr><tr><td>&quot;r6in.2xlarge&quot;</td><td>12.5</td><td>40.0</td><td>0.6973</td><td>0.055784</td><td>64.0</td><td>&quot;EBS only&quot;</td><td>&quot;8 vCPUs&quot;</td><td>0.010895</td></tr><tr><td>&quot;im4gn.2xlarge&quot;</td><td>12.5</td><td>25.0</td><td>0.7276</td><td>0.058208</td><td>32.0</td><td>&quot;3750 GB       …</td><td>&quot;8 vCPUs&quot;</td><td>0.022737</td></tr><tr><td>&quot;r6idn.2xlarge&quot;</td><td>12.5</td><td>40.0</td><td>0.7816</td><td>0.062528</td><td>64.0</td><td>&quot;474 GB        …</td><td>&quot;8 vCPUs&quot;</td><td>0.012212</td></tr></tbody></table></div>"
      ],
      "text/plain": [
       "shape: (21, 9)\n",
       "┌───────────────┬──────────┬───────┬────────┬───┬──────┬──────────────────┬─────────┬──────────────┐\n",
       "│ instances     ┆ baseline ┆ burst ┆ cost   ┆ … ┆ mem  ┆ storage          ┆ vCPUs   ┆ cost_per_mem │\n",
       "│ ---           ┆ ---      ┆ ---   ┆ ---    ┆   ┆ ---  ┆ ---              ┆ ---     ┆ ---          │\n",
       "│ str           ┆ f64      ┆ f64   ┆ f32    ┆   ┆ f32  ┆ str              ┆ str     ┆ f32          │\n",
       "╞═══════════════╪══════════╪═══════╪════════╪═══╪══════╪══════════════════╪═════════╪══════════════╡\n",
       "│ c7g.2xlarge   ┆ 3.75     ┆ 15.0  ┆ 0.29   ┆ … ┆ 16.0 ┆ EBS only         ┆ 8 vCPUs ┆ 0.018125     │\n",
       "│ c6gd.2xlarge  ┆ 2.5      ┆ 10.0  ┆ 0.3072 ┆ … ┆ 16.0 ┆ 474 GB           ┆ 8 vCPUs ┆ 0.0192       │\n",
       "│               ┆          ┆       ┆        ┆   ┆      ┆ NVMe SSD         ┆         ┆              │\n",
       "│ m7g.2xlarge   ┆ 3.75     ┆ 15.0  ┆ 0.3264 ┆ … ┆ 32.0 ┆ EBS only         ┆ 8 vCPUs ┆ 0.0102       │\n",
       "│ c6i.2xlarge   ┆ 3.125    ┆ 12.5  ┆ 0.34   ┆ … ┆ 16.0 ┆ EBS only         ┆ 8 vCPUs ┆ 0.02125      │\n",
       "│ …             ┆ …        ┆ …     ┆ …      ┆ … ┆ …    ┆ …                ┆ …       ┆ …            │\n",
       "│ i4i.2xlarge   ┆ 4.687    ┆ 12.0  ┆ 0.686  ┆ … ┆ 64.0 ┆ 1875 GB          ┆ 8 vCPUs ┆ 0.010719     │\n",
       "│               ┆          ┆       ┆        ┆   ┆      ┆ NVMe SSD         ┆         ┆              │\n",
       "│ r6in.2xlarge  ┆ 12.5     ┆ 40.0  ┆ 0.6973 ┆ … ┆ 64.0 ┆ EBS only         ┆ 8 vCPUs ┆ 0.010895     │\n",
       "│ im4gn.2xlarge ┆ 12.5     ┆ 25.0  ┆ 0.7276 ┆ … ┆ 32.0 ┆ 3750 GB          ┆ 8 vCPUs ┆ 0.022737     │\n",
       "│               ┆          ┆       ┆        ┆   ┆      ┆ NVMe SSD         ┆         ┆              │\n",
       "│ r6idn.2xlarge ┆ 12.5     ┆ 40.0  ┆ 0.7816 ┆ … ┆ 64.0 ┆ 474 GB           ┆ 8 vCPUs ┆ 0.012212     │\n",
       "│               ┆          ┆       ┆        ┆   ┆      ┆ NVMe SSD         ┆         ┆              │\n",
       "└───────────────┴──────────┴───────┴────────┴───┴──────┴──────────────────┴─────────┴──────────────┘"
      ]
     },
     "execution_count": 44,
     "metadata": {},
     "output_type": "execute_result"
    }
   ],
   "source": [
    "z.filter(z[\"instances\"].is_in(types))"
   ]
  },
  {
   "cell_type": "code",
   "execution_count": 51,
   "id": "6aff609f",
   "metadata": {},
   "outputs": [
    {
     "data": {
      "text/plain": [
       "'c6i, c6id, c6in, c6gd, c6gn, c7g, im4gn, i4i, m6gd, m6idn, m6i, m6id, m6in, m7g, r6i, r6id, r6idn, r6in, r7g, r6gd, r6g'"
      ]
     },
     "execution_count": 51,
     "metadata": {},
     "output_type": "execute_result"
    }
   ],
   "source": [
    "\", \".join(types).replace(\".2xlarge\",\"\")"
   ]
  },
  {
   "cell_type": "code",
   "execution_count": 24,
   "id": "33532388",
   "metadata": {},
   "outputs": [],
   "source": [
    "K = 300\n",
    "\n",
    "def compute(x, y):\n",
    "    if 16 * x + 64 * y >= K:\n",
    "        t = K / (x + y) + K / 2\n",
    "        c = t * (x + 2 * y)\n",
    "    else:\n",
    "        t = 2 * K / (x + y) + K / 2\n",
    "        c = t * (x + 2 * y)\n",
    "    return t, c"
   ]
  },
  {
   "cell_type": "code",
   "execution_count": null,
   "id": "389b145c",
   "metadata": {},
   "outputs": [],
   "source": []
  },
  {
   "cell_type": "code",
   "execution_count": 25,
   "id": "a7efc7a9",
   "metadata": {},
   "outputs": [
    {
     "data": {
      "image/png": "[encoded data removed]",
      "text/plain": [
       "<Figure size 432x288 with 1 Axes>"
      ]
     },
     "metadata": {
      "needs_background": "light"
     },
     "output_type": "display_data"
    }
   ],
   "source": [
    "data = [compute(k,0) for k in range(1, 8)]\n",
    "x = [item[0] for item in data]\n",
    "y = [item[1] for item in data]\n",
    "plt.scatter(x, y)\n",
    "\n",
    "data = [compute(0, k) for k in range(1, 8)]\n",
    "x = [item[0] for item in data]\n",
    "y = [item[1] for item in data]\n",
    "plt.scatter(x, y)\n",
    "\n",
    "data = [compute(4, 1)] \n",
    "x = [item[0] for item in data]\n",
    "y = [item[1] for item in data]\n",
    "plt.scatter(x, y)\n",
    "\n",
    "plt.xlabel('runtime')\n",
    "plt.ylabel('cost')\n",
    "plt.title('Scatter Plot')\n",
    "plt.show()\n"
   ]
  },
  {
   "cell_type": "code",
   "execution_count": null,
   "id": "638bc8aa",
   "metadata": {},
   "outputs": [],
   "source": []
  },
  {
   "cell_type": "code",
   "execution_count": 8,
   "id": "386d78ba",
   "metadata": {},
   "outputs": [
    {
     "data": {
      "text/plain": [
       "(0.0, 273.4573333172)"
      ]
     },
     "execution_count": 8,
     "metadata": {},
     "output_type": "execute_result"
    },
    {
     "data": {
      "image/png": "[encoded data removed]",
      "text/plain": [
       "<Figure size 432x288 with 1 Axes>"
      ]
     },
     "metadata": {
      "needs_background": "light"
     },
     "output_type": "display_data"
    }
   ],
   "source": [
    "a = polars.read_csv(\"results.csv\", separator = \"\\t\")\n",
    "a = a.with_columns((polars.col(\"Average Runtime\") * polars.col(\"Cost\")).alias(\"Total Cost\"))\n",
    "plt.scatter(a[\"Average Runtime\"], a[\"Total Cost\"])\n",
    "for i, label in enumerate(a[\"Setup\"]):\n",
    "    plt.text(a[\"Average Runtime\"][i], a[\"Total Cost\"][i], label)\n",
    "plt.xlim(0, max(a[\"Average Runtime\"]) + 10)\n",
    "plt.ylim(0, max(a[\"Total Cost\"]) + 10)"
   ]
  },
  {
   "cell_type": "code",
   "execution_count": null,
   "id": "97fc4734",
   "metadata": {},
   "outputs": [],
   "source": []
  }
 ],
 "metadata": {
  "kernelspec": {
   "display_name": "Python 3 (ipykernel)",
   "language": "python",
   "name": "python3"
  },
  "language_info": {
   "codemirror_mode": {
    "name": "ipython",
    "version": 3
   },
   "file_extension": ".py",
   "mimetype": "text/x-python",
   "name": "python",
   "nbconvert_exporter": "python",
   "pygments_lexer": "ipython3",
   "version": "3.8.0"
  }
 },
 "nbformat": 4,
 "nbformat_minor": 5
}
